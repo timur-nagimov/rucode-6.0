{
  "nbformat": 4,
  "nbformat_minor": 0,
  "metadata": {
    "colab": {
      "provenance": [],
      "collapsed_sections": [
        "A3Vkomqd42zt"
      ]
    },
    "kernelspec": {
      "name": "python3",
      "display_name": "Python 3"
    },
    "language_info": {
      "name": "python"
    }
  },
  "cells": [
    {
      "cell_type": "code",
      "execution_count": 1,
      "metadata": {
        "id": "xYcjArI2rub-",
        "colab": {
          "base_uri": "https://localhost:8080/"
        },
        "outputId": "ef541054-d3d1-4959-84ce-0f7c90e4dc50"
      },
      "outputs": [
        {
          "output_type": "stream",
          "name": "stdout",
          "text": [
            "Looking in indexes: https://pypi.org/simple, https://us-python.pkg.dev/colab-wheels/public/simple/\n",
            "Collecting fasttext\n",
            "  Using cached fasttext-0.9.2.tar.gz (68 kB)\n",
            "Requirement already satisfied: pybind11>=2.2 in /usr/local/lib/python3.7/dist-packages (from fasttext) (2.10.1)\n",
            "Requirement already satisfied: setuptools>=0.7.0 in /usr/local/lib/python3.7/dist-packages (from fasttext) (57.4.0)\n",
            "Requirement already satisfied: numpy in /usr/local/lib/python3.7/dist-packages (from fasttext) (1.21.6)\n",
            "Building wheels for collected packages: fasttext\n",
            "  Building wheel for fasttext (setup.py) ... \u001b[?25l\u001b[?25hdone\n",
            "  Created wheel for fasttext: filename=fasttext-0.9.2-cp37-cp37m-linux_x86_64.whl size=3164905 sha256=f0472b98b7b66f6388138894757c1e137e1c3b1af65760e4785785a45a9a0afd\n",
            "  Stored in directory: /root/.cache/pip/wheels/4e/ca/bf/b020d2be95f7641801a6597a29c8f4f19e38f9c02a345bab9b\n",
            "Successfully built fasttext\n",
            "Installing collected packages: fasttext\n",
            "Successfully installed fasttext-0.9.2\n"
          ]
        }
      ],
      "source": [
        "import pandas as pd\n",
        "import matplotlib as plt\n",
        "import seaborn as sns\n",
        "\n",
        "%pip install fasttext\n",
        "import fasttext"
      ]
    },
    {
      "cell_type": "code",
      "source": [
        "train = pd.read_csv('train.csv')"
      ],
      "metadata": {
        "id": "wkt7q0Hqr0TA"
      },
      "execution_count": 2,
      "outputs": []
    },
    {
      "cell_type": "code",
      "source": [
        "ax = sns.countplot(x=train['category'])\n",
        "ax.set_title('Сбалансированность классов');"
      ],
      "metadata": {
        "colab": {
          "base_uri": "https://localhost:8080/",
          "height": 295
        },
        "id": "oAyRMzjjCA3U",
        "outputId": "c8d2f866-10dc-43d3-aa2a-7b450691471f"
      },
      "execution_count": 3,
      "outputs": [
        {
          "output_type": "display_data",
          "data": {
            "text/plain": [
              "<Figure size 432x288 with 1 Axes>"
            ],
            "image/png": "[encoded data removed]"
          },
          "metadata": {
            "needs_background": "light"
          }
        }
      ]
    },
    {
      "cell_type": "markdown",
      "source": [
        "Как видно, в основном присутствуют только классы phrases и products. jokes и books присутствуют в крайне малом количестве"
      ],
      "metadata": {
        "id": "C86w5OECClwo"
      }
    },
    {
      "cell_type": "markdown",
      "source": [
        "Посмотрим, как выглядит текст в зависимости от его категории"
      ],
      "metadata": {
        "id": "nhrwDjUuCrz7"
      }
    },
    {
      "cell_type": "code",
      "source": [
        "train[train['category'] == 'phrases'][['correct_text', 'corrupted_text']].head(5)"
      ],
      "metadata": {
        "colab": {
          "base_uri": "https://localhost:8080/",
          "height": 206
        },
        "id": "ZAK1c6jzCuHE",
        "outputId": "5d92863c-736d-439d-a8af-895e192a0f53"
      },
      "execution_count": 5,
      "outputs": [
        {
          "output_type": "execute_result",
          "data": {
            "text/plain": [
              "                      correct_text                   corrupted_text\n",
              "0  Считает, что сможет жить вечно!   Считает, что ссожет ить вечно!\n",
              "1  20 миллионов и ни пенни меньше!  20 миллионов и ни ппнни меньше!\n",
              "2                 - Но и мы умрём.                 - Но и мы умрём.\n",
              "3                Ты вобще молодец.                 Ты вобще молоцд.\n",
              "4      Вы имеете в виду силу бога?      Вы имеетн в виду силу ьога?"
            ],
            "text/html": [
              "\n",
              "  <div id=\"df-cedc22d4-284d-45f9-8e6b-a840ab95f285\">\n",
              "    <div class=\"colab-df-container\">\n",
              "      <div>\n",
              "<style scoped>\n",
              "    .dataframe tbody tr th:only-of-type {\n",
              "        vertical-align: middle;\n",
              "    }\n",
              "\n",
              "    .dataframe tbody tr th {\n",
              "        vertical-align: top;\n",
              "    }\n",
              "\n",
              "    .dataframe thead th {\n",
              "        text-align: right;\n",
              "    }\n",
              "</style>\n",
              "<table border=\"1\" class=\"dataframe\">\n",
              "  <thead>\n",
              "    <tr style=\"text-align: right;\">\n",
              "      <th></th>\n",
              "      <th>correct_text</th>\n",
              "      <th>corrupted_text</th>\n",
              "    </tr>\n",
              "  </thead>\n",
              "  <tbody>\n",
              "    <tr>\n",
              "      <th>0</th>\n",
              "      <td>Считает, что сможет жить вечно!</td>\n",
              "      <td>Считает, что ссожет ить вечно!</td>\n",
              "    </tr>\n",
              "    <tr>\n",
              "      <th>1</th>\n",
              "      <td>20 миллионов и ни пенни меньше!</td>\n",
              "      <td>20 миллионов и ни ппнни меньше!</td>\n",
              "    </tr>\n",
              "    <tr>\n",
              "      <th>2</th>\n",
              "      <td>- Но и мы умрём.</td>\n",
              "      <td>- Но и мы умрём.</td>\n",
              "    </tr>\n",
              "    <tr>\n",
              "      <th>3</th>\n",
              "      <td>Ты вобще молодец.</td>\n",
              "      <td>Ты вобще молоцд.</td>\n",
              "    </tr>\n",
              "    <tr>\n",
              "      <th>4</th>\n",
              "      <td>Вы имеете в виду силу бога?</td>\n",
              "      <td>Вы имеетн в виду силу ьога?</td>\n",
              "    </tr>\n",
              "  </tbody>\n",
              "</table>\n",
              "</div>\n",
              "      <button class=\"colab-df-convert\" onclick=\"convertToInteractive('df-cedc22d4-284d-45f9-8e6b-a840ab95f285')\"\n",
              "              title=\"Convert this dataframe to an interactive table.\"\n",
              "              style=\"display:none;\">\n",
              "        \n",
              "  <svg xmlns=\"http://www.w3.org/2000/svg\" height=\"24px\"viewBox=\"0 0 24 24\"\n",
              "       width=\"24px\">\n",
              "    <path d=\"M0 0h24v24H0V0z\" fill=\"none\"/>\n",
              "    <path d=\"M18.56 5.44l.94 2.06.94-2.06 2.06-.94-2.06-.94-.94-2.06-.94 2.06-2.06.94zm-11 1L8.5 8.5l.94-2.06 2.06-.94-2.06-.94L8.5 2.5l-.94 2.06-2.06.94zm10 10l.94 2.06.94-2.06 2.06-.94-2.06-.94-.94-2.06-.94 2.06-2.06.94z\"/><path d=\"M17.41 7.96l-1.37-1.37c-.4-.4-.92-.59-1.43-.59-.52 0-1.04.2-1.43.59L10.3 9.45l-7.72 7.72c-.78.78-.78 2.05 0 2.83L4 21.41c.39.39.9.59 1.41.59.51 0 1.02-.2 1.41-.59l7.78-7.78 2.81-2.81c.8-.78.8-2.07 0-2.86zM5.41 20L4 18.59l7.72-7.72 1.47 1.35L5.41 20z\"/>\n",
              "  </svg>\n",
              "      </button>\n",
              "      \n",
              "  <style>\n",
              "    .colab-df-container {\n",
              "      display:flex;\n",
              "      flex-wrap:wrap;\n",
              "      gap: 12px;\n",
              "    }\n",
              "\n",
              "    .colab-df-convert {\n",
              "      background-color: #E8F0FE;\n",
              "      border: none;\n",
              "      border-radius: 50%;\n",
              "      cursor: pointer;\n",
              "      display: none;\n",
              "      fill: #1967D2;\n",
              "      height: 32px;\n",
              "      padding: 0 0 0 0;\n",
              "      width: 32px;\n",
              "    }\n",
              "\n",
              "    .colab-df-convert:hover {\n",
              "      background-color: #E2EBFA;\n",
              "      box-shadow: 0px 1px 2px rgba(60, 64, 67, 0.3), 0px 1px 3px 1px rgba(60, 64, 67, 0.15);\n",
              "      fill: #174EA6;\n",
              "    }\n",
              "\n",
              "    [theme=dark] .colab-df-convert {\n",
              "      background-color: #3B4455;\n",
              "      fill: #D2E3FC;\n",
              "    }\n",
              "\n",
              "    [theme=dark] .colab-df-convert:hover {\n",
              "      background-color: #434B5C;\n",
              "      box-shadow: 0px 1px 3px 1px rgba(0, 0, 0, 0.15);\n",
              "      filter: drop-shadow(0px 1px 2px rgba(0, 0, 0, 0.3));\n",
              "      fill: #FFFFFF;\n",
              "    }\n",
              "  </style>\n",
              "\n",
              "      <script>\n",
              "        const buttonEl =\n",
              "          document.querySelector('#df-cedc22d4-284d-45f9-8e6b-a840ab95f285 button.colab-df-convert');\n",
              "        buttonEl.style.display =\n",
              "          google.colab.kernel.accessAllowed ? 'block' : 'none';\n",
              "\n",
              "        async function convertToInteractive(key) {\n",
              "          const element = document.querySelector('#df-cedc22d4-284d-45f9-8e6b-a840ab95f285');\n",
              "          const dataTable =\n",
              "            await google.colab.kernel.invokeFunction('convertToInteractive',\n",
              "                                                     [key], {});\n",
              "          if (!dataTable) return;\n",
              "\n",
              "          const docLinkHtml = 'Like what you see? Visit the ' +\n",
              "            '<a target=\"_blank\" href=https://colab.research.google.com/notebooks/data_table.ipynb>data table notebook</a>'\n",
              "            + ' to learn more about interactive tables.';\n",
              "          element.innerHTML = '';\n",
              "          dataTable['output_type'] = 'display_data';\n",
              "          await google.colab.output.renderOutput(dataTable, element);\n",
              "          const docLink = document.createElement('div');\n",
              "          docLink.innerHTML = docLinkHtml;\n",
              "          element.appendChild(docLink);\n",
              "        }\n",
              "      </script>\n",
              "    </div>\n",
              "  </div>\n",
              "  "
            ]
          },
          "metadata": {},
          "execution_count": 5
        }
      ]
    },
    {
      "cell_type": "code",
      "source": [
        "train[train['category'] == 'products'][['correct_text', 'corrupted_text']].head(5)"
      ],
      "metadata": {
        "colab": {
          "base_uri": "https://localhost:8080/",
          "height": 206
        },
        "id": "YruWwKXRCwUq",
        "outputId": "be32c75a-6be8-4674-ae11-457e6d41eb90"
      },
      "execution_count": 6,
      "outputs": [
        {
          "output_type": "execute_result",
          "data": {
            "text/plain": [
              "                                correct_text  \\\n",
              "7   БоссаНова зефир ванильный темной глазури   \n",
              "9                   Филип Морис комп Эксперт   \n",
              "10                       Сигнал заднего хода   \n",
              "11                    Хлеб Урожайный Куймань   \n",
              "20                     Крупа рисовая весовая   \n",
              "\n",
              "                             corrupted_text  \n",
              "7   босаснов зефир ванильный темной глазури  \n",
              "9                  Филир Морис комп Эксперт  \n",
              "10                      Сегнал заднего хода  \n",
              "11                   Хлеб Урожайный Куймань  \n",
              "20                    Круца рисовая весовая  "
            ],
            "text/html": [
              "\n",
              "  <div id=\"df-57c4a488-835e-4ec2-89b2-d5dcfe6a61cc\">\n",
              "    <div class=\"colab-df-container\">\n",
              "      <div>\n",
              "<style scoped>\n",
              "    .dataframe tbody tr th:only-of-type {\n",
              "        vertical-align: middle;\n",
              "    }\n",
              "\n",
              "    .dataframe tbody tr th {\n",
              "        vertical-align: top;\n",
              "    }\n",
              "\n",
              "    .dataframe thead th {\n",
              "        text-align: right;\n",
              "    }\n",
              "</style>\n",
              "<table border=\"1\" class=\"dataframe\">\n",
              "  <thead>\n",
              "    <tr style=\"text-align: right;\">\n",
              "      <th></th>\n",
              "      <th>correct_text</th>\n",
              "      <th>corrupted_text</th>\n",
              "    </tr>\n",
              "  </thead>\n",
              "  <tbody>\n",
              "    <tr>\n",
              "      <th>7</th>\n",
              "      <td>БоссаНова зефир ванильный темной глазури</td>\n",
              "      <td>босаснов зефир ванильный темной глазури</td>\n",
              "    </tr>\n",
              "    <tr>\n",
              "      <th>9</th>\n",
              "      <td>Филип Морис комп Эксперт</td>\n",
              "      <td>Филир Морис комп Эксперт</td>\n",
              "    </tr>\n",
              "    <tr>\n",
              "      <th>10</th>\n",
              "      <td>Сигнал заднего хода</td>\n",
              "      <td>Сегнал заднего хода</td>\n",
              "    </tr>\n",
              "    <tr>\n",
              "      <th>11</th>\n",
              "      <td>Хлеб Урожайный Куймань</td>\n",
              "      <td>Хлеб Урожайный Куймань</td>\n",
              "    </tr>\n",
              "    <tr>\n",
              "      <th>20</th>\n",
              "      <td>Крупа рисовая весовая</td>\n",
              "      <td>Круца рисовая весовая</td>\n",
              "    </tr>\n",
              "  </tbody>\n",
              "</table>\n",
              "</div>\n",
              "      <button class=\"colab-df-convert\" onclick=\"convertToInteractive('df-57c4a488-835e-4ec2-89b2-d5dcfe6a61cc')\"\n",
              "              title=\"Convert this dataframe to an interactive table.\"\n",
              "              style=\"display:none;\">\n",
              "        \n",
              "  <svg xmlns=\"http://www.w3.org/2000/svg\" height=\"24px\"viewBox=\"0 0 24 24\"\n",
              "       width=\"24px\">\n",
              "    <path d=\"M0 0h24v24H0V0z\" fill=\"none\"/>\n",
              "    <path d=\"M18.56 5.44l.94 2.06.94-2.06 2.06-.94-2.06-.94-.94-2.06-.94 2.06-2.06.94zm-11 1L8.5 8.5l.94-2.06 2.06-.94-2.06-.94L8.5 2.5l-.94 2.06-2.06.94zm10 10l.94 2.06.94-2.06 2.06-.94-2.06-.94-.94-2.06-.94 2.06-2.06.94z\"/><path d=\"M17.41 7.96l-1.37-1.37c-.4-.4-.92-.59-1.43-.59-.52 0-1.04.2-1.43.59L10.3 9.45l-7.72 7.72c-.78.78-.78 2.05 0 2.83L4 21.41c.39.39.9.59 1.41.59.51 0 1.02-.2 1.41-.59l7.78-7.78 2.81-2.81c.8-.78.8-2.07 0-2.86zM5.41 20L4 18.59l7.72-7.72 1.47 1.35L5.41 20z\"/>\n",
              "  </svg>\n",
              "      </button>\n",
              "      \n",
              "  <style>\n",
              "    .colab-df-container {\n",
              "      display:flex;\n",
              "      flex-wrap:wrap;\n",
              "      gap: 12px;\n",
              "    }\n",
              "\n",
              "    .colab-df-convert {\n",
              "      background-color: #E8F0FE;\n",
              "      border: none;\n",
              "      border-radius: 50%;\n",
              "      cursor: pointer;\n",
              "      display: none;\n",
              "      fill: #1967D2;\n",
              "      height: 32px;\n",
              "      padding: 0 0 0 0;\n",
              "      width: 32px;\n",
              "    }\n",
              "\n",
              "    .colab-df-convert:hover {\n",
              "      background-color: #E2EBFA;\n",
              "      box-shadow: 0px 1px 2px rgba(60, 64, 67, 0.3), 0px 1px 3px 1px rgba(60, 64, 67, 0.15);\n",
              "      fill: #174EA6;\n",
              "    }\n",
              "\n",
              "    [theme=dark] .colab-df-convert {\n",
              "      background-color: #3B4455;\n",
              "      fill: #D2E3FC;\n",
              "    }\n",
              "\n",
              "    [theme=dark] .colab-df-convert:hover {\n",
              "      background-color: #434B5C;\n",
              "      box-shadow: 0px 1px 3px 1px rgba(0, 0, 0, 0.15);\n",
              "      filter: drop-shadow(0px 1px 2px rgba(0, 0, 0, 0.3));\n",
              "      fill: #FFFFFF;\n",
              "    }\n",
              "  </style>\n",
              "\n",
              "      <script>\n",
              "        const buttonEl =\n",
              "          document.querySelector('#df-57c4a488-835e-4ec2-89b2-d5dcfe6a61cc button.colab-df-convert');\n",
              "        buttonEl.style.display =\n",
              "          google.colab.kernel.accessAllowed ? 'block' : 'none';\n",
              "\n",
              "        async function convertToInteractive(key) {\n",
              "          const element = document.querySelector('#df-57c4a488-835e-4ec2-89b2-d5dcfe6a61cc');\n",
              "          const dataTable =\n",
              "            await google.colab.kernel.invokeFunction('convertToInteractive',\n",
              "                                                     [key], {});\n",
              "          if (!dataTable) return;\n",
              "\n",
              "          const docLinkHtml = 'Like what you see? Visit the ' +\n",
              "            '<a target=\"_blank\" href=https://colab.research.google.com/notebooks/data_table.ipynb>data table notebook</a>'\n",
              "            + ' to learn more about interactive tables.';\n",
              "          element.innerHTML = '';\n",
              "          dataTable['output_type'] = 'display_data';\n",
              "          await google.colab.output.renderOutput(dataTable, element);\n",
              "          const docLink = document.createElement('div');\n",
              "          docLink.innerHTML = docLinkHtml;\n",
              "          element.appendChild(docLink);\n",
              "        }\n",
              "      </script>\n",
              "    </div>\n",
              "  </div>\n",
              "  "
            ]
          },
          "metadata": {},
          "execution_count": 6
        }
      ]
    },
    {
      "cell_type": "code",
      "source": [
        "train[train['category'] == 'jokes'][['correct_text', 'corrupted_text']].head(5)"
      ],
      "metadata": {
        "colab": {
          "base_uri": "https://localhost:8080/",
          "height": 206
        },
        "id": "7bBCIzkpCwsX",
        "outputId": "21e8cdf4-3e08-4121-abdd-03c6411c0c16"
      },
      "execution_count": 7,
      "outputs": [
        {
          "output_type": "execute_result",
          "data": {
            "text/plain": [
              "                                          correct_text  \\\n",
              "121                 Я старый больной человек. Тебе 19.   \n",
              "234                     Трое в лодке, нищета и собаки.   \n",
              "250  сердце глупца в его языке язык умного в его се...   \n",
              "524  Если женщина не стонет ночью, то она ворчит днем.   \n",
              "538  где рады там не учащай а где не рады век не бывай   \n",
              "\n",
              "                                        corrupted_text  \n",
              "121                 Я старыи больной челaвнк. Тебе 19.  \n",
              "234                     Трое в лодкп, нищета и собави.  \n",
              "250  седрце глупца в егр языке азык умного в его се...  \n",
              "524   Есле женщина не стонет ночтю, то он ворчит днем.  \n",
              "538    оде рады там не учаща а где не рады век не быва  "
            ],
            "text/html": [
              "\n",
              "  <div id=\"df-42415bb3-7c83-4df9-bdbe-9012bf61fcb0\">\n",
              "    <div class=\"colab-df-container\">\n",
              "      <div>\n",
              "<style scoped>\n",
              "    .dataframe tbody tr th:only-of-type {\n",
              "        vertical-align: middle;\n",
              "    }\n",
              "\n",
              "    .dataframe tbody tr th {\n",
              "        vertical-align: top;\n",
              "    }\n",
              "\n",
              "    .dataframe thead th {\n",
              "        text-align: right;\n",
              "    }\n",
              "</style>\n",
              "<table border=\"1\" class=\"dataframe\">\n",
              "  <thead>\n",
              "    <tr style=\"text-align: right;\">\n",
              "      <th></th>\n",
              "      <th>correct_text</th>\n",
              "      <th>corrupted_text</th>\n",
              "    </tr>\n",
              "  </thead>\n",
              "  <tbody>\n",
              "    <tr>\n",
              "      <th>121</th>\n",
              "      <td>Я старый больной человек. Тебе 19.</td>\n",
              "      <td>Я старыи больной челaвнк. Тебе 19.</td>\n",
              "    </tr>\n",
              "    <tr>\n",
              "      <th>234</th>\n",
              "      <td>Трое в лодке, нищета и собаки.</td>\n",
              "      <td>Трое в лодкп, нищета и собави.</td>\n",
              "    </tr>\n",
              "    <tr>\n",
              "      <th>250</th>\n",
              "      <td>сердце глупца в его языке язык умного в его се...</td>\n",
              "      <td>седрце глупца в егр языке азык умного в его се...</td>\n",
              "    </tr>\n",
              "    <tr>\n",
              "      <th>524</th>\n",
              "      <td>Если женщина не стонет ночью, то она ворчит днем.</td>\n",
              "      <td>Есле женщина не стонет ночтю, то он ворчит днем.</td>\n",
              "    </tr>\n",
              "    <tr>\n",
              "      <th>538</th>\n",
              "      <td>где рады там не учащай а где не рады век не бывай</td>\n",
              "      <td>оде рады там не учаща а где не рады век не быва</td>\n",
              "    </tr>\n",
              "  </tbody>\n",
              "</table>\n",
              "</div>\n",
              "      <button class=\"colab-df-convert\" onclick=\"convertToInteractive('df-42415bb3-7c83-4df9-bdbe-9012bf61fcb0')\"\n",
              "              title=\"Convert this dataframe to an interactive table.\"\n",
              "              style=\"display:none;\">\n",
              "        \n",
              "  <svg xmlns=\"http://www.w3.org/2000/svg\" height=\"24px\"viewBox=\"0 0 24 24\"\n",
              "       width=\"24px\">\n",
              "    <path d=\"M0 0h24v24H0V0z\" fill=\"none\"/>\n",
              "    <path d=\"M18.56 5.44l.94 2.06.94-2.06 2.06-.94-2.06-.94-.94-2.06-.94 2.06-2.06.94zm-11 1L8.5 8.5l.94-2.06 2.06-.94-2.06-.94L8.5 2.5l-.94 2.06-2.06.94zm10 10l.94 2.06.94-2.06 2.06-.94-2.06-.94-.94-2.06-.94 2.06-2.06.94z\"/><path d=\"M17.41 7.96l-1.37-1.37c-.4-.4-.92-.59-1.43-.59-.52 0-1.04.2-1.43.59L10.3 9.45l-7.72 7.72c-.78.78-.78 2.05 0 2.83L4 21.41c.39.39.9.59 1.41.59.51 0 1.02-.2 1.41-.59l7.78-7.78 2.81-2.81c.8-.78.8-2.07 0-2.86zM5.41 20L4 18.59l7.72-7.72 1.47 1.35L5.41 20z\"/>\n",
              "  </svg>\n",
              "      </button>\n",
              "      \n",
              "  <style>\n",
              "    .colab-df-container {\n",
              "      display:flex;\n",
              "      flex-wrap:wrap;\n",
              "      gap: 12px;\n",
              "    }\n",
              "\n",
              "    .colab-df-convert {\n",
              "      background-color: #E8F0FE;\n",
              "      border: none;\n",
              "      border-radius: 50%;\n",
              "      cursor: pointer;\n",
              "      display: none;\n",
              "      fill: #1967D2;\n",
              "      height: 32px;\n",
              "      padding: 0 0 0 0;\n",
              "      width: 32px;\n",
              "    }\n",
              "\n",
              "    .colab-df-convert:hover {\n",
              "      background-color: #E2EBFA;\n",
              "      box-shadow: 0px 1px 2px rgba(60, 64, 67, 0.3), 0px 1px 3px 1px rgba(60, 64, 67, 0.15);\n",
              "      fill: #174EA6;\n",
              "    }\n",
              "\n",
              "    [theme=dark] .colab-df-convert {\n",
              "      background-color: #3B4455;\n",
              "      fill: #D2E3FC;\n",
              "    }\n",
              "\n",
              "    [theme=dark] .colab-df-convert:hover {\n",
              "      background-color: #434B5C;\n",
              "      box-shadow: 0px 1px 3px 1px rgba(0, 0, 0, 0.15);\n",
              "      filter: drop-shadow(0px 1px 2px rgba(0, 0, 0, 0.3));\n",
              "      fill: #FFFFFF;\n",
              "    }\n",
              "  </style>\n",
              "\n",
              "      <script>\n",
              "        const buttonEl =\n",
              "          document.querySelector('#df-42415bb3-7c83-4df9-bdbe-9012bf61fcb0 button.colab-df-convert');\n",
              "        buttonEl.style.display =\n",
              "          google.colab.kernel.accessAllowed ? 'block' : 'none';\n",
              "\n",
              "        async function convertToInteractive(key) {\n",
              "          const element = document.querySelector('#df-42415bb3-7c83-4df9-bdbe-9012bf61fcb0');\n",
              "          const dataTable =\n",
              "            await google.colab.kernel.invokeFunction('convertToInteractive',\n",
              "                                                     [key], {});\n",
              "          if (!dataTable) return;\n",
              "\n",
              "          const docLinkHtml = 'Like what you see? Visit the ' +\n",
              "            '<a target=\"_blank\" href=https://colab.research.google.com/notebooks/data_table.ipynb>data table notebook</a>'\n",
              "            + ' to learn more about interactive tables.';\n",
              "          element.innerHTML = '';\n",
              "          dataTable['output_type'] = 'display_data';\n",
              "          await google.colab.output.renderOutput(dataTable, element);\n",
              "          const docLink = document.createElement('div');\n",
              "          docLink.innerHTML = docLinkHtml;\n",
              "          element.appendChild(docLink);\n",
              "        }\n",
              "      </script>\n",
              "    </div>\n",
              "  </div>\n",
              "  "
            ]
          },
          "metadata": {},
          "execution_count": 7
        }
      ]
    },
    {
      "cell_type": "code",
      "source": [
        "train[train['category'] == 'books'][['correct_text', 'corrupted_text']].head(5)"
      ],
      "metadata": {
        "colab": {
          "base_uri": "https://localhost:8080/",
          "height": 206
        },
        "id": "AWuof4AUCzoP",
        "outputId": "fbd2f333-508e-4dd7-8930-3d5c7409362e"
      },
      "execution_count": 8,
      "outputs": [
        {
          "output_type": "execute_result",
          "data": {
            "text/plain": [
              "                                correct_text  \\\n",
              "315  Для него, для мужа, это все-таки легче.   \n",
              "490              Ведь вы не поступили дурно?   \n",
              "529                       \"Ай да квартирка!\"   \n",
              "687     Помещик усмехнулся под белыми усами.   \n",
              "718                 -- А мне надо, я обещал.   \n",
              "\n",
              "                            corrupted_text  \n",
              "315  Для рего, для муж, эт все-таки легче.  \n",
              "490            еВдь вы не поступили дурно?  \n",
              "529                     \"Ай да квартирка!\"  \n",
              "687   Помещик усмехнулся пaд белыми умами.  \n",
              "718               -- А мге надо, я обещал.  "
            ],
            "text/html": [
              "\n",
              "  <div id=\"df-ca69e577-063e-4222-a91e-1726690d0d7f\">\n",
              "    <div class=\"colab-df-container\">\n",
              "      <div>\n",
              "<style scoped>\n",
              "    .dataframe tbody tr th:only-of-type {\n",
              "        vertical-align: middle;\n",
              "    }\n",
              "\n",
              "    .dataframe tbody tr th {\n",
              "        vertical-align: top;\n",
              "    }\n",
              "\n",
              "    .dataframe thead th {\n",
              "        text-align: right;\n",
              "    }\n",
              "</style>\n",
              "<table border=\"1\" class=\"dataframe\">\n",
              "  <thead>\n",
              "    <tr style=\"text-align: right;\">\n",
              "      <th></th>\n",
              "      <th>correct_text</th>\n",
              "      <th>corrupted_text</th>\n",
              "    </tr>\n",
              "  </thead>\n",
              "  <tbody>\n",
              "    <tr>\n",
              "      <th>315</th>\n",
              "      <td>Для него, для мужа, это все-таки легче.</td>\n",
              "      <td>Для рего, для муж, эт все-таки легче.</td>\n",
              "    </tr>\n",
              "    <tr>\n",
              "      <th>490</th>\n",
              "      <td>Ведь вы не поступили дурно?</td>\n",
              "      <td>еВдь вы не поступили дурно?</td>\n",
              "    </tr>\n",
              "    <tr>\n",
              "      <th>529</th>\n",
              "      <td>\"Ай да квартирка!\"</td>\n",
              "      <td>\"Ай да квартирка!\"</td>\n",
              "    </tr>\n",
              "    <tr>\n",
              "      <th>687</th>\n",
              "      <td>Помещик усмехнулся под белыми усами.</td>\n",
              "      <td>Помещик усмехнулся пaд белыми умами.</td>\n",
              "    </tr>\n",
              "    <tr>\n",
              "      <th>718</th>\n",
              "      <td>-- А мне надо, я обещал.</td>\n",
              "      <td>-- А мге надо, я обещал.</td>\n",
              "    </tr>\n",
              "  </tbody>\n",
              "</table>\n",
              "</div>\n",
              "      <button class=\"colab-df-convert\" onclick=\"convertToInteractive('df-ca69e577-063e-4222-a91e-1726690d0d7f')\"\n",
              "              title=\"Convert this dataframe to an interactive table.\"\n",
              "              style=\"display:none;\">\n",
              "        \n",
              "  <svg xmlns=\"http://www.w3.org/2000/svg\" height=\"24px\"viewBox=\"0 0 24 24\"\n",
              "       width=\"24px\">\n",
              "    <path d=\"M0 0h24v24H0V0z\" fill=\"none\"/>\n",
              "    <path d=\"M18.56 5.44l.94 2.06.94-2.06 2.06-.94-2.06-.94-.94-2.06-.94 2.06-2.06.94zm-11 1L8.5 8.5l.94-2.06 2.06-.94-2.06-.94L8.5 2.5l-.94 2.06-2.06.94zm10 10l.94 2.06.94-2.06 2.06-.94-2.06-.94-.94-2.06-.94 2.06-2.06.94z\"/><path d=\"M17.41 7.96l-1.37-1.37c-.4-.4-.92-.59-1.43-.59-.52 0-1.04.2-1.43.59L10.3 9.45l-7.72 7.72c-.78.78-.78 2.05 0 2.83L4 21.41c.39.39.9.59 1.41.59.51 0 1.02-.2 1.41-.59l7.78-7.78 2.81-2.81c.8-.78.8-2.07 0-2.86zM5.41 20L4 18.59l7.72-7.72 1.47 1.35L5.41 20z\"/>\n",
              "  </svg>\n",
              "      </button>\n",
              "      \n",
              "  <style>\n",
              "    .colab-df-container {\n",
              "      display:flex;\n",
              "      flex-wrap:wrap;\n",
              "      gap: 12px;\n",
              "    }\n",
              "\n",
              "    .colab-df-convert {\n",
              "      background-color: #E8F0FE;\n",
              "      border: none;\n",
              "      border-radius: 50%;\n",
              "      cursor: pointer;\n",
              "      display: none;\n",
              "      fill: #1967D2;\n",
              "      height: 32px;\n",
              "      padding: 0 0 0 0;\n",
              "      width: 32px;\n",
              "    }\n",
              "\n",
              "    .colab-df-convert:hover {\n",
              "      background-color: #E2EBFA;\n",
              "      box-shadow: 0px 1px 2px rgba(60, 64, 67, 0.3), 0px 1px 3px 1px rgba(60, 64, 67, 0.15);\n",
              "      fill: #174EA6;\n",
              "    }\n",
              "\n",
              "    [theme=dark] .colab-df-convert {\n",
              "      background-color: #3B4455;\n",
              "      fill: #D2E3FC;\n",
              "    }\n",
              "\n",
              "    [theme=dark] .colab-df-convert:hover {\n",
              "      background-color: #434B5C;\n",
              "      box-shadow: 0px 1px 3px 1px rgba(0, 0, 0, 0.15);\n",
              "      filter: drop-shadow(0px 1px 2px rgba(0, 0, 0, 0.3));\n",
              "      fill: #FFFFFF;\n",
              "    }\n",
              "  </style>\n",
              "\n",
              "      <script>\n",
              "        const buttonEl =\n",
              "          document.querySelector('#df-ca69e577-063e-4222-a91e-1726690d0d7f button.colab-df-convert');\n",
              "        buttonEl.style.display =\n",
              "          google.colab.kernel.accessAllowed ? 'block' : 'none';\n",
              "\n",
              "        async function convertToInteractive(key) {\n",
              "          const element = document.querySelector('#df-ca69e577-063e-4222-a91e-1726690d0d7f');\n",
              "          const dataTable =\n",
              "            await google.colab.kernel.invokeFunction('convertToInteractive',\n",
              "                                                     [key], {});\n",
              "          if (!dataTable) return;\n",
              "\n",
              "          const docLinkHtml = 'Like what you see? Visit the ' +\n",
              "            '<a target=\"_blank\" href=https://colab.research.google.com/notebooks/data_table.ipynb>data table notebook</a>'\n",
              "            + ' to learn more about interactive tables.';\n",
              "          element.innerHTML = '';\n",
              "          dataTable['output_type'] = 'display_data';\n",
              "          await google.colab.output.renderOutput(dataTable, element);\n",
              "          const docLink = document.createElement('div');\n",
              "          docLink.innerHTML = docLinkHtml;\n",
              "          element.appendChild(docLink);\n",
              "        }\n",
              "      </script>\n",
              "    </div>\n",
              "  </div>\n",
              "  "
            ]
          },
          "metadata": {},
          "execution_count": 8
        }
      ]
    },
    {
      "cell_type": "markdown",
      "source": [
        " Возьмем предложения `Ведь вы не поступили дурно?` и `еВдь вы не поступили дурно?`. В данном случае ошибка в том, что местами были перепутаны буквы. \n",
        " \n",
        " В примере `Считает, что сможет жить вечно!` и `Считает, что ссожет ить вечно!` присутствует слово с лишней буквой и слово, где одной буквы не хватает.\n",
        "\n",
        " Необходимо будет сделать такое решение, которое будет учитывать ошибки подобного типа и исправлять их."
      ],
      "metadata": {
        "id": "TeQA0hA6C6zt"
      }
    },
    {
      "cell_type": "markdown",
      "source": [
        "Проверка данных на выбросы:"
      ],
      "metadata": {
        "id": "WoNPQGUcDDky"
      }
    },
    {
      "cell_type": "code",
      "source": [
        "train.isnull().mean() * 100"
      ],
      "metadata": {
        "colab": {
          "base_uri": "https://localhost:8080/"
        },
        "id": "XseStu88DG9e",
        "outputId": "2cdaa467-24b9-4f8f-88be-1a57d656db2a"
      },
      "execution_count": 9,
      "outputs": [
        {
          "output_type": "execute_result",
          "data": {
            "text/plain": [
              "corrupted_text    0.0\n",
              "correct_text      0.0\n",
              "category          0.0\n",
              "dtype: float64"
            ]
          },
          "metadata": {},
          "execution_count": 9
        }
      ]
    },
    {
      "cell_type": "markdown",
      "source": [
        "Удаляем пунктуацию, переводим текст в нижний регистр и составляем список слов из данной строки"
      ],
      "metadata": {
        "id": "KcMZz9-Jw0Bb"
      }
    },
    {
      "cell_type": "code",
      "source": [
        "def remove_punctuation(text):\n",
        "    punctuation = '''!@#$%^&*(){}[]|._`/?:;\"'\\,~'''\n",
        "    for symbol in punctuation:\n",
        "        if symbol in text:\n",
        "            text = text.replace(symbol, '')\n",
        "    return text.strip()"
      ],
      "metadata": {
        "id": "qPWAy9wGr02O"
      },
      "execution_count": null,
      "outputs": []
    },
    {
      "cell_type": "code",
      "source": [
        "train['corrupt_text_no_punctuation'] = train.corrupted_text.apply(lambda x: remove_punctuation(x)).apply(lambda x: x.lower())\n",
        "train['corrupt_text_list'] = train['corrupt_text_no_punctuation'].apply(lambda x: x.split())"
      ],
      "metadata": {
        "id": "wTrvx0_jt41e"
      },
      "execution_count": null,
      "outputs": []
    },
    {
      "cell_type": "code",
      "source": [
        "train['correct_text_no_punctuation'] = train.correct_text.apply(lambda x: remove_punctuation(x)).apply(lambda x: x.lower())\n",
        "train['correct_text_list'] = train['correct_text_no_punctuation'].apply(lambda x: x.split())"
      ],
      "metadata": {
        "id": "OUNQmpOAt561"
      },
      "execution_count": null,
      "outputs": []
    },
    {
      "cell_type": "markdown",
      "source": [
        "Создаем словари для слов в которых были совершены ошибки, для корректных слов и для биграм (словосочетаний по 2 слова)"
      ],
      "metadata": {
        "id": "g2mAQ_TgxJDF"
      }
    },
    {
      "cell_type": "code",
      "source": [
        "bad_words = {} #слова с ошибками\n",
        "good_words = {} #валидные слова\n",
        "bigrams = {} #биграммы"
      ],
      "metadata": {
        "id": "XDBV1q6Lt7M5"
      },
      "execution_count": null,
      "outputs": []
    },
    {
      "cell_type": "code",
      "source": [
        "# функция для составления словаря биграмм\n",
        "def make_bigrams(text):\n",
        "    for i in range(len(text) - 1):\n",
        "        bigram = text[i] + ' ' + text[i + 1]\n",
        "        if bigram in bigrams:\n",
        "            bigrams[bigram] += 1\n",
        "        else:\n",
        "            bigrams[bigram] = 1\n",
        "\n",
        "'''функция для составления словаря валидных слов, где ключ - слово, \n",
        "значение - сколько раз оно встретилось'''      \n",
        "def make_good_dict(text):\n",
        "    for word in text:\n",
        "        if word in good_words:\n",
        "            good_words[word] += 1\n",
        "        else:\n",
        "            good_words[word] = 1\n",
        "\n",
        "'''функция для составления словаря слов с ошибками (сопоставляет слову \n",
        "из текста с ошибками слово на той же позиции из корректного текста)'''          \n",
        "def make_bad_dict(correct, corrupt):\n",
        "    for good_word, bad_word in zip(correct, corrupt):\n",
        "        if good_word != bad_word and good_word in good_words:\n",
        "            if bad_word in bad_words:\n",
        "                bad_words[bad_word].add(good_word)\n",
        "            else:\n",
        "                bad_words[bad_word] = {good_word}"
      ],
      "metadata": {
        "id": "1sfVGBT2t-xY"
      },
      "execution_count": null,
      "outputs": []
    },
    {
      "cell_type": "code",
      "source": [
        "train.correct_text_list.apply(lambda x: make_good_dict(x))"
      ],
      "metadata": {
        "colab": {
          "base_uri": "https://localhost:8080/"
        },
        "id": "c-hc58BRt_4d",
        "outputId": "11575f2c-ad7a-4946-d10b-99cce8919ee7"
      },
      "execution_count": null,
      "outputs": [
        {
          "output_type": "execute_result",
          "data": {
            "text/plain": [
              "0        None\n",
              "1        None\n",
              "2        None\n",
              "3        None\n",
              "4        None\n",
              "         ... \n",
              "26931    None\n",
              "26932    None\n",
              "26933    None\n",
              "26934    None\n",
              "26935    None\n",
              "Name: correct_text_list, Length: 26936, dtype: object"
            ]
          },
          "metadata": {},
          "execution_count": 11
        }
      ]
    },
    {
      "cell_type": "code",
      "source": [
        "train.apply(lambda x: make_bad_dict(x.correct_text_list, x.corrupt_text_list), axis=1)"
      ],
      "metadata": {
        "colab": {
          "base_uri": "https://localhost:8080/"
        },
        "id": "ToDSGlmQuCRP",
        "outputId": "8d1f4082-884b-402d-f44b-391964b8dbe8"
      },
      "execution_count": null,
      "outputs": [
        {
          "output_type": "execute_result",
          "data": {
            "text/plain": [
              "0        None\n",
              "1        None\n",
              "2        None\n",
              "3        None\n",
              "4        None\n",
              "         ... \n",
              "26931    None\n",
              "26932    None\n",
              "26933    None\n",
              "26934    None\n",
              "26935    None\n",
              "Length: 26936, dtype: object"
            ]
          },
          "metadata": {},
          "execution_count": 12
        }
      ]
    },
    {
      "cell_type": "code",
      "source": [
        "train.correct_text_list.apply(lambda x: make_bigrams(x))"
      ],
      "metadata": {
        "colab": {
          "base_uri": "https://localhost:8080/"
        },
        "id": "bFCcvyZiuJ3V",
        "outputId": "ac6777fc-a6a6-4b2c-be1d-3a98fa5d8ba3"
      },
      "execution_count": null,
      "outputs": [
        {
          "output_type": "execute_result",
          "data": {
            "text/plain": [
              "0        None\n",
              "1        None\n",
              "2        None\n",
              "3        None\n",
              "4        None\n",
              "         ... \n",
              "26931    None\n",
              "26932    None\n",
              "26933    None\n",
              "26934    None\n",
              "26935    None\n",
              "Name: correct_text_list, Length: 26936, dtype: object"
            ]
          },
          "metadata": {},
          "execution_count": 13
        }
      ]
    },
    {
      "cell_type": "markdown",
      "source": [
        "Используем вероятностный подход для оценки контекста и вероятности употребления данного слова"
      ],
      "metadata": {
        "id": "b09VGcdayS1i"
      }
    },
    {
      "cell_type": "code",
      "source": [
        "'''Сглаженная функция (не переходит в ноль)\n",
        "   для определения вероятности появления слов'''\n",
        "def pdist_additive_smoothed(counter, c=1):  #counter - словарь токенов и их частот\n",
        "    N = sum(list(counter.values()))          # суммарное кол-во слов\n",
        "    Nplus = N + c * (len(counter) + 1) # кол-во слов + сглаживание\n",
        "    return lambda word: (counter[word] + c) / Nplus \n",
        "\n",
        "P1 = pdist_additive_smoothed(good_words)\n",
        "P2 = pdist_additive_smoothed(bigrams)\n",
        "\n",
        "# функция для перемножения вероятностей\n",
        "def product(nums):\n",
        "    result = 1\n",
        "    for x in nums:\n",
        "        result *= x\n",
        "    return result"
      ],
      "metadata": {
        "id": "-R_I59fkuLi9"
      },
      "execution_count": null,
      "outputs": []
    },
    {
      "cell_type": "code",
      "source": [
        "# вероятность последовательности слов с помощью биграммной модели (при условии предыдущего слова)\n",
        "def Pwords2(words, prev=''):\n",
        "    return product(cPword(w, (prev if (i == 0) else words[i-1]) )\n",
        "                   for (i, w) in enumerate(words))\n",
        "\n",
        "# условная вероятность слова при условии предыдущего\n",
        "def cPword(word, prev):\n",
        "    \"Условная вероятность слова при условии предыдущего.\"\n",
        "    bigram = prev + ' ' + word\n",
        "    if bigram in bigrams and prev in good_words:\n",
        "        return P2(bigram) / P1(prev)\n",
        "    else: # если что-то не встретилось, поставим среднее между P1 и 0\n",
        "        return P1(word) / 2"
      ],
      "metadata": {
        "id": "xgxdOmy0uOp4"
      },
      "execution_count": null,
      "outputs": []
    },
    {
      "cell_type": "markdown",
      "source": [
        "Определяем возможные валидные слова на edit distance 0, 1 и 2 от нашего слова"
      ],
      "metadata": {
        "id": "xeEZK1F82Xgk"
      }
    },
    {
      "cell_type": "code",
      "source": [
        "''' функция возвращает подмножество слов, которое есть в нашем словаре с частотой более 10 \n",
        "(т.к в валидном тексте были замечены некорректные слова с маленькой частотой)''' \n",
        "def known(words):\n",
        "    res = set()\n",
        "    for w in words:\n",
        "        if w in good_words.keys() and good_words[w] > 10:\n",
        "            res.add(w)\n",
        "    return res\n",
        "\n",
        "# все строки, которые находятся на edit_distance == 0 от word (т.е само слово)\n",
        "def edits0(word):\n",
        "    return {word}\n",
        "\n",
        "# все строки, которые находятся на edit_distance == 2 от word\n",
        "def edits2(word):   \n",
        "    return {e2 for e1 in edits1(word) for e2 in edits1(e1)}"
      ],
      "metadata": {
        "id": "2mk7DkxquRK6"
      },
      "execution_count": null,
      "outputs": []
    },
    {
      "cell_type": "code",
      "source": [
        "# возвращает список всех строк на расстоянии edit_distance == 1 от word\n",
        "def edits1(word):\n",
        "    pairs      = splits(word)\n",
        "    deletes    = [a+b[1:]           for (a, b) in pairs if b]\n",
        "    transposes = [a+b[1]+b[0]+b[2:] for (a, b) in pairs if len(b) > 1]\n",
        "    replaces   = [a+c+b[1:]         for (a, b) in pairs for c in alphabet if b]\n",
        "    inserts    = [a+c+b             for (a, b) in pairs for c in alphabet]\n",
        "    return set(deletes + transposes + replaces + inserts)\n",
        "\n",
        "# список всех возможных разбиений слова на пару (a, b)\n",
        "def splits(word):\n",
        "    return [(word[:i], word[i:]) \n",
        "            for i in range(len(word)+1)]\n",
        "\n",
        "# включили - в алфавит, т.к есть слова по типу \"какой-то\", \"посмтри-ка\"\n",
        "alphabet = 'абвгдеёжзийклмнопрстуфхцчшщъыьэюя-' "
      ],
      "metadata": {
        "id": "U8MpKXXAuSfv"
      },
      "execution_count": null,
      "outputs": []
    },
    {
      "cell_type": "markdown",
      "source": [
        "Осуществляем исправления слов. \n",
        "Сначала прямолинейным подходом - ищем в словаре неправильных слов замену (если несколько вариантов исправления, выбираем самый подходящий по биграммам или вероятности появления данного слова).\n",
        "Далее пользуемся подходом Норвига (вышенаписанные функции) с изменением неправильного слова на расстояния 1 и 2 (если получилось несколько кандидатов также смотрим по биграммам и вероятностям слов)"
      ],
      "metadata": {
        "id": "3wziPxu63CKF"
      }
    },
    {
      "cell_type": "code",
      "source": [
        "# поиск наиболее вероятной биграммы\n",
        "def find_best_b(bi):\n",
        "    best_P = 0\n",
        "    for b in bi:\n",
        "        if Pwords2(b) >= best_P:\n",
        "            best_P = Pwords2(b)\n",
        "            best_bi = b\n",
        "    return best_bi"
      ],
      "metadata": {
        "id": "Mr0JME8ouWeP"
      },
      "execution_count": null,
      "outputs": []
    },
    {
      "cell_type": "code",
      "source": [
        "# реализация прямолинейного подхода\n",
        "def checker(text_check):\n",
        "    text = text_check.copy()\n",
        "    for i in range(len(text)):\n",
        "        ''' ищем слова которые были исправлены в train и не содержатся в словаре валидных слов\n",
        "        (чтобы случайно не исправить правильные слова)''' \n",
        "        if text[i] in bad_words and (text[i] not in good_words or good_words[text[i]] < 100):\n",
        "            candidates = bad_words[text[i]]\n",
        "            # если предыдущее слово - валидное, составляем с ним биграммы\n",
        "            if i != 0 and text[i - 1] in good_words: \n",
        "                bi = []\n",
        "                for candidate in candidates:\n",
        "                    bi.append([text[i - 1], candidate])\n",
        "                \n",
        "                best_bi = find_best_b(bi)\n",
        "                text[i] = best_bi[1]\n",
        "            # если предыдущее слово - не валидное, смотрим по вероятности текущего слова    \n",
        "            else:\n",
        "                text[i] = (max(bad_words[text[i]], key=P1))\n",
        "                \n",
        "    return text"
      ],
      "metadata": {
        "id": "lEZrSSlPuYjS"
      },
      "execution_count": null,
      "outputs": []
    },
    {
      "cell_type": "code",
      "source": [
        "# реализация подхода с исправлением опечаток на расстоянии 1 и 2\n",
        "def checker2(text_check):\n",
        "    text = text_check.copy()\n",
        "    for i in range(len(text)):\n",
        "        # используем только для некорректных слов\n",
        "        if text[i] not in good_words:\n",
        "            # выбираем кандидатов с помощью написанных выше функций\n",
        "            candidates = (known(edits1(text[i])) or known(edits2(text[i])))\n",
        "            if not candidates:\n",
        "                continue\n",
        "            if i != 0 and text[i - 1] in good_words and len(text[i]) > 3:\n",
        "                bi = []\n",
        "                for candidate in candidates:\n",
        "                    bi.append([text[i - 1], candidate])\n",
        "                best_bi = find_best_b(bi)\n",
        "                text[i] = best_bi[1]\n",
        "            else:\n",
        "                text[i] = max(candidates, key=good_words.get)\n",
        "\n",
        "    return text"
      ],
      "metadata": {
        "id": "alGl9QTNuZnc"
      },
      "execution_count": null,
      "outputs": []
    },
    {
      "cell_type": "markdown",
      "source": [
        "Подготавливаем тестовые данные"
      ],
      "metadata": {
        "id": "tMTj63b27h4_"
      }
    },
    {
      "cell_type": "code",
      "source": [
        "test = pd.read_csv('private_test.csv') # необходимо указать файл"
      ],
      "metadata": {
        "id": "b125WOE4uajH"
      },
      "execution_count": null,
      "outputs": []
    },
    {
      "cell_type": "code",
      "source": [
        "test['corrupt_text_no_punctuation'] = test.corrupted_text.apply(lambda x: remove_punctuation(x)).apply(lambda x: x.lower())"
      ],
      "metadata": {
        "id": "fReWpc5Gun0C"
      },
      "execution_count": null,
      "outputs": []
    },
    {
      "cell_type": "code",
      "source": [
        "test['list_text'] = test['corrupt_text_no_punctuation'].apply(lambda x: x.split())"
      ],
      "metadata": {
        "id": "10oeV8CUuq1X"
      },
      "execution_count": null,
      "outputs": []
    },
    {
      "cell_type": "code",
      "source": [
        "test['good_text'] = test['list_text'].apply(lambda x: checker(x))"
      ],
      "metadata": {
        "id": "PFbzLzQZutSu"
      },
      "execution_count": null,
      "outputs": []
    },
    {
      "cell_type": "code",
      "source": [
        "%%time\n",
        "test['good_text'] = test['good_text'].apply(lambda x: checker2(x))"
      ],
      "metadata": {
        "id": "bNlv4Vt1uu3n",
        "colab": {
          "base_uri": "https://localhost:8080/",
          "height": 473
        },
        "outputId": "161c10aa-9bc4-4d8c-f213-ceedd56879c9"
      },
      "execution_count": 29,
      "outputs": [
        {
          "output_type": "error",
          "ename": "KeyboardInterrupt",
          "evalue": "ignored",
          "traceback": [
            "\u001b[0;31m---------------------------------------------------------------------------\u001b[0m",
            "\u001b[0;31mKeyboardInterrupt\u001b[0m                         Traceback (most recent call last)",
            "\u001b[0;32m<timed exec>\u001b[0m in \u001b[0;36m<module>\u001b[0;34m\u001b[0m\n",
            "\u001b[0;32m/usr/local/lib/python3.7/dist-packages/pandas/core/series.py\u001b[0m in \u001b[0;36mapply\u001b[0;34m(self, func, convert_dtype, args, **kwargs)\u001b[0m\n\u001b[1;32m   4355\u001b[0m         \u001b[0mdtype\u001b[0m\u001b[0;34m:\u001b[0m \u001b[0mfloat64\u001b[0m\u001b[0;34m\u001b[0m\u001b[0;34m\u001b[0m\u001b[0m\n\u001b[1;32m   4356\u001b[0m         \"\"\"\n\u001b[0;32m-> 4357\u001b[0;31m         \u001b[0;32mreturn\u001b[0m \u001b[0mSeriesApply\u001b[0m\u001b[0;34m(\u001b[0m\u001b[0mself\u001b[0m\u001b[0;34m,\u001b[0m \u001b[0mfunc\u001b[0m\u001b[0;34m,\u001b[0m \u001b[0mconvert_dtype\u001b[0m\u001b[0;34m,\u001b[0m \u001b[0margs\u001b[0m\u001b[0;34m,\u001b[0m \u001b[0mkwargs\u001b[0m\u001b[0;34m)\u001b[0m\u001b[0;34m.\u001b[0m\u001b[0mapply\u001b[0m\u001b[0;34m(\u001b[0m\u001b[0;34m)\u001b[0m\u001b[0;34m\u001b[0m\u001b[0;34m\u001b[0m\u001b[0m\n\u001b[0m\u001b[1;32m   4358\u001b[0m \u001b[0;34m\u001b[0m\u001b[0m\n\u001b[1;32m   4359\u001b[0m     def _reduce(\n",
            "\u001b[0;32m/usr/local/lib/python3.7/dist-packages/pandas/core/apply.py\u001b[0m in \u001b[0;36mapply\u001b[0;34m(self)\u001b[0m\n\u001b[1;32m   1041\u001b[0m             \u001b[0;32mreturn\u001b[0m \u001b[0mself\u001b[0m\u001b[0;34m.\u001b[0m\u001b[0mapply_str\u001b[0m\u001b[0;34m(\u001b[0m\u001b[0;34m)\u001b[0m\u001b[0;34m\u001b[0m\u001b[0;34m\u001b[0m\u001b[0m\n\u001b[1;32m   1042\u001b[0m \u001b[0;34m\u001b[0m\u001b[0m\n\u001b[0;32m-> 1043\u001b[0;31m         \u001b[0;32mreturn\u001b[0m \u001b[0mself\u001b[0m\u001b[0;34m.\u001b[0m\u001b[0mapply_standard\u001b[0m\u001b[0;34m(\u001b[0m\u001b[0;34m)\u001b[0m\u001b[0;34m\u001b[0m\u001b[0;34m\u001b[0m\u001b[0m\n\u001b[0m\u001b[1;32m   1044\u001b[0m \u001b[0;34m\u001b[0m\u001b[0m\n\u001b[1;32m   1045\u001b[0m     \u001b[0;32mdef\u001b[0m \u001b[0magg\u001b[0m\u001b[0;34m(\u001b[0m\u001b[0mself\u001b[0m\u001b[0;34m)\u001b[0m\u001b[0;34m:\u001b[0m\u001b[0;34m\u001b[0m\u001b[0;34m\u001b[0m\u001b[0m\n",
            "\u001b[0;32m/usr/local/lib/python3.7/dist-packages/pandas/core/apply.py\u001b[0m in \u001b[0;36mapply_standard\u001b[0;34m(self)\u001b[0m\n\u001b[1;32m   1099\u001b[0m                     \u001b[0mvalues\u001b[0m\u001b[0;34m,\u001b[0m\u001b[0;34m\u001b[0m\u001b[0;34m\u001b[0m\u001b[0m\n\u001b[1;32m   1100\u001b[0m                     \u001b[0mf\u001b[0m\u001b[0;34m,\u001b[0m  \u001b[0;31m# type: ignore[arg-type]\u001b[0m\u001b[0;34m\u001b[0m\u001b[0;34m\u001b[0m\u001b[0m\n\u001b[0;32m-> 1101\u001b[0;31m                     \u001b[0mconvert\u001b[0m\u001b[0;34m=\u001b[0m\u001b[0mself\u001b[0m\u001b[0;34m.\u001b[0m\u001b[0mconvert_dtype\u001b[0m\u001b[0;34m,\u001b[0m\u001b[0;34m\u001b[0m\u001b[0;34m\u001b[0m\u001b[0m\n\u001b[0m\u001b[1;32m   1102\u001b[0m                 )\n\u001b[1;32m   1103\u001b[0m \u001b[0;34m\u001b[0m\u001b[0m\n",
            "\u001b[0;32m/usr/local/lib/python3.7/dist-packages/pandas/_libs/lib.pyx\u001b[0m in \u001b[0;36mpandas._libs.lib.map_infer\u001b[0;34m()\u001b[0m\n",
            "\u001b[0;32m<timed exec>\u001b[0m in \u001b[0;36m<lambda>\u001b[0;34m(x)\u001b[0m\n",
            "\u001b[0;32m<ipython-input-21-a33127ef787a>\u001b[0m in \u001b[0;36mchecker2\u001b[0;34m(text_check)\u001b[0m\n\u001b[1;32m      3\u001b[0m     \u001b[0;32mfor\u001b[0m \u001b[0mi\u001b[0m \u001b[0;32min\u001b[0m \u001b[0mrange\u001b[0m\u001b[0;34m(\u001b[0m\u001b[0mlen\u001b[0m\u001b[0;34m(\u001b[0m\u001b[0mtext\u001b[0m\u001b[0;34m)\u001b[0m\u001b[0;34m)\u001b[0m\u001b[0;34m:\u001b[0m\u001b[0;34m\u001b[0m\u001b[0;34m\u001b[0m\u001b[0m\n\u001b[1;32m      4\u001b[0m         \u001b[0;32mif\u001b[0m \u001b[0mtext\u001b[0m\u001b[0;34m[\u001b[0m\u001b[0mi\u001b[0m\u001b[0;34m]\u001b[0m \u001b[0;32mnot\u001b[0m \u001b[0;32min\u001b[0m \u001b[0mgood_words\u001b[0m\u001b[0;34m:\u001b[0m\u001b[0;34m\u001b[0m\u001b[0;34m\u001b[0m\u001b[0m\n\u001b[0;32m----> 5\u001b[0;31m             \u001b[0mcandidates\u001b[0m \u001b[0;34m=\u001b[0m \u001b[0;34m(\u001b[0m\u001b[0mknown\u001b[0m\u001b[0;34m(\u001b[0m\u001b[0medits1\u001b[0m\u001b[0;34m(\u001b[0m\u001b[0mtext\u001b[0m\u001b[0;34m[\u001b[0m\u001b[0mi\u001b[0m\u001b[0;34m]\u001b[0m\u001b[0;34m)\u001b[0m\u001b[0;34m)\u001b[0m \u001b[0;32mor\u001b[0m \u001b[0mknown\u001b[0m\u001b[0;34m(\u001b[0m\u001b[0medits2\u001b[0m\u001b[0;34m(\u001b[0m\u001b[0mtext\u001b[0m\u001b[0;34m[\u001b[0m\u001b[0mi\u001b[0m\u001b[0;34m]\u001b[0m\u001b[0;34m)\u001b[0m\u001b[0;34m)\u001b[0m\u001b[0;34m)\u001b[0m\u001b[0;34m\u001b[0m\u001b[0;34m\u001b[0m\u001b[0m\n\u001b[0m\u001b[1;32m      6\u001b[0m             \u001b[0;32mif\u001b[0m \u001b[0;32mnot\u001b[0m \u001b[0mcandidates\u001b[0m\u001b[0;34m:\u001b[0m\u001b[0;34m\u001b[0m\u001b[0;34m\u001b[0m\u001b[0m\n\u001b[1;32m      7\u001b[0m                 \u001b[0;32mcontinue\u001b[0m\u001b[0;34m\u001b[0m\u001b[0;34m\u001b[0m\u001b[0m\n",
            "\u001b[0;32m<ipython-input-17-6816d52a4bf3>\u001b[0m in \u001b[0;36medits2\u001b[0;34m(word)\u001b[0m\n\u001b[1;32m     14\u001b[0m     \u001b[0;34m\"Вернуть все строки, которые находятся на edit_distance == 2 от word.\"\u001b[0m\u001b[0;34m\u001b[0m\u001b[0;34m\u001b[0m\u001b[0m\n\u001b[1;32m     15\u001b[0m \u001b[0;34m\u001b[0m\u001b[0m\n\u001b[0;32m---> 16\u001b[0;31m     \u001b[0;32mreturn\u001b[0m \u001b[0;34m{\u001b[0m\u001b[0me2\u001b[0m \u001b[0;32mfor\u001b[0m \u001b[0me1\u001b[0m \u001b[0;32min\u001b[0m \u001b[0medits1\u001b[0m\u001b[0;34m(\u001b[0m\u001b[0mword\u001b[0m\u001b[0;34m)\u001b[0m \u001b[0;32mfor\u001b[0m \u001b[0me2\u001b[0m \u001b[0;32min\u001b[0m \u001b[0medits1\u001b[0m\u001b[0;34m(\u001b[0m\u001b[0me1\u001b[0m\u001b[0;34m)\u001b[0m\u001b[0;34m}\u001b[0m\u001b[0;34m\u001b[0m\u001b[0;34m\u001b[0m\u001b[0m\n\u001b[0m",
            "\u001b[0;32m<ipython-input-17-6816d52a4bf3>\u001b[0m in \u001b[0;36m<setcomp>\u001b[0;34m(.0)\u001b[0m\n\u001b[1;32m     14\u001b[0m     \u001b[0;34m\"Вернуть все строки, которые находятся на edit_distance == 2 от word.\"\u001b[0m\u001b[0;34m\u001b[0m\u001b[0;34m\u001b[0m\u001b[0m\n\u001b[1;32m     15\u001b[0m \u001b[0;34m\u001b[0m\u001b[0m\n\u001b[0;32m---> 16\u001b[0;31m     \u001b[0;32mreturn\u001b[0m \u001b[0;34m{\u001b[0m\u001b[0me2\u001b[0m \u001b[0;32mfor\u001b[0m \u001b[0me1\u001b[0m \u001b[0;32min\u001b[0m \u001b[0medits1\u001b[0m\u001b[0;34m(\u001b[0m\u001b[0mword\u001b[0m\u001b[0;34m)\u001b[0m \u001b[0;32mfor\u001b[0m \u001b[0me2\u001b[0m \u001b[0;32min\u001b[0m \u001b[0medits1\u001b[0m\u001b[0;34m(\u001b[0m\u001b[0me1\u001b[0m\u001b[0;34m)\u001b[0m\u001b[0;34m}\u001b[0m\u001b[0;34m\u001b[0m\u001b[0;34m\u001b[0m\u001b[0m\n\u001b[0m",
            "\u001b[0;32m<ipython-input-18-6f7d991d8714>\u001b[0m in \u001b[0;36medits1\u001b[0;34m(word)\u001b[0m\n\u001b[1;32m      6\u001b[0m     \u001b[0mreplaces\u001b[0m   \u001b[0;34m=\u001b[0m \u001b[0;34m[\u001b[0m\u001b[0ma\u001b[0m\u001b[0;34m+\u001b[0m\u001b[0mc\u001b[0m\u001b[0;34m+\u001b[0m\u001b[0mb\u001b[0m\u001b[0;34m[\u001b[0m\u001b[0;36m1\u001b[0m\u001b[0;34m:\u001b[0m\u001b[0;34m]\u001b[0m         \u001b[0;32mfor\u001b[0m \u001b[0;34m(\u001b[0m\u001b[0ma\u001b[0m\u001b[0;34m,\u001b[0m \u001b[0mb\u001b[0m\u001b[0;34m)\u001b[0m \u001b[0;32min\u001b[0m \u001b[0mpairs\u001b[0m \u001b[0;32mfor\u001b[0m \u001b[0mc\u001b[0m \u001b[0;32min\u001b[0m \u001b[0malphabet\u001b[0m \u001b[0;32mif\u001b[0m \u001b[0mb\u001b[0m\u001b[0;34m]\u001b[0m\u001b[0;34m\u001b[0m\u001b[0;34m\u001b[0m\u001b[0m\n\u001b[1;32m      7\u001b[0m     \u001b[0minserts\u001b[0m    \u001b[0;34m=\u001b[0m \u001b[0;34m[\u001b[0m\u001b[0ma\u001b[0m\u001b[0;34m+\u001b[0m\u001b[0mc\u001b[0m\u001b[0;34m+\u001b[0m\u001b[0mb\u001b[0m             \u001b[0;32mfor\u001b[0m \u001b[0;34m(\u001b[0m\u001b[0ma\u001b[0m\u001b[0;34m,\u001b[0m \u001b[0mb\u001b[0m\u001b[0;34m)\u001b[0m \u001b[0;32min\u001b[0m \u001b[0mpairs\u001b[0m \u001b[0;32mfor\u001b[0m \u001b[0mc\u001b[0m \u001b[0;32min\u001b[0m \u001b[0malphabet\u001b[0m\u001b[0;34m]\u001b[0m\u001b[0;34m\u001b[0m\u001b[0;34m\u001b[0m\u001b[0m\n\u001b[0;32m----> 8\u001b[0;31m     \u001b[0;32mreturn\u001b[0m \u001b[0mset\u001b[0m\u001b[0;34m(\u001b[0m\u001b[0mdeletes\u001b[0m \u001b[0;34m+\u001b[0m \u001b[0mtransposes\u001b[0m \u001b[0;34m+\u001b[0m \u001b[0mreplaces\u001b[0m \u001b[0;34m+\u001b[0m \u001b[0minserts\u001b[0m\u001b[0;34m)\u001b[0m\u001b[0;34m\u001b[0m\u001b[0;34m\u001b[0m\u001b[0m\n\u001b[0m\u001b[1;32m      9\u001b[0m \u001b[0;34m\u001b[0m\u001b[0m\n\u001b[1;32m     10\u001b[0m \u001b[0;32mdef\u001b[0m \u001b[0msplits\u001b[0m\u001b[0;34m(\u001b[0m\u001b[0mword\u001b[0m\u001b[0;34m)\u001b[0m\u001b[0;34m:\u001b[0m\u001b[0;34m\u001b[0m\u001b[0;34m\u001b[0m\u001b[0m\n",
            "\u001b[0;31mKeyboardInterrupt\u001b[0m: "
          ]
        }
      ]
    },
    {
      "cell_type": "code",
      "source": [
        "# функция для восстановления пунктуации и заглавных букв с помощью исходного текста\n",
        "def restore_punctuation(original_text, good_text):\n",
        "    res = []\n",
        "    punctuation = '''!@#$%^&*(){}[]|._`/?:;\"'\\,~'''\n",
        "    for orig_word, word in zip(original_text, good_text):\n",
        "        if orig_word[-1] in punctuation:\n",
        "            word = word + orig_word[-1]\n",
        "        if orig_word[0] in punctuation:\n",
        "            word = orig_word[0] + word\n",
        "        if (orig_word == '-' or orig_word == '—') and word == 'я':\n",
        "            word = orig_word\n",
        "        if orig_word.istitle():\n",
        "            word = word[0].upper() + word[1:]\n",
        "        res.append(word)\n",
        "    return ' '.join(res)"
      ],
      "metadata": {
        "id": "9pF9AaMD4ttF"
      },
      "execution_count": null,
      "outputs": []
    },
    {
      "cell_type": "code",
      "source": [
        "test['corrupt_text_list'] = test['corrupted_text'].apply(lambda x: x.split())"
      ],
      "metadata": {
        "id": "5-EgbsD44t73"
      },
      "execution_count": null,
      "outputs": []
    },
    {
      "cell_type": "code",
      "source": [
        "test['res'] = test.apply(lambda x: restore_punctuation(x.corrupt_text_list, x.good_text), axis=1)"
      ],
      "metadata": {
        "id": "jtoELpyR4xjr"
      },
      "execution_count": null,
      "outputs": []
    },
    {
      "cell_type": "code",
      "source": [
        "test.res.to_csv('res3.csv', index=False)"
      ],
      "metadata": {
        "id": "VgCaShiG4z0r"
      },
      "execution_count": null,
      "outputs": []
    },
    {
      "cell_type": "markdown",
      "source": [
        "## FastText"
      ],
      "metadata": {
        "id": "A3Vkomqd42zt"
      }
    },
    {
      "cell_type": "markdown",
      "source": [
        "Используем FastText для классификации тестовых данных на 4 категории из train датасета"
      ],
      "metadata": {
        "id": "eug8HLxT77u-"
      }
    },
    {
      "cell_type": "code",
      "source": [
        "train['correct_text_edited'] = '__label__' + train['category'] + ' ' + train['correct_text']\n",
        "train['correct_text_edited'] = train['correct_text_edited'].apply(lambda x: x.lower())"
      ],
      "metadata": {
        "id": "nlUwPTpZ43qw"
      },
      "execution_count": 10,
      "outputs": []
    },
    {
      "cell_type": "code",
      "source": [
        "train['correct_text_edited'].to_csv('correct_text_edited.txt', index=False)"
      ],
      "metadata": {
        "id": "zihQNWkk46Ef"
      },
      "execution_count": 11,
      "outputs": []
    },
    {
      "cell_type": "code",
      "source": [
        "import fasttext\n",
        "model = fasttext.train_supervised(input='correct_text_edited.txt', epoch=25, wordNgrams=2)"
      ],
      "metadata": {
        "id": "HcRnCSVL46SL"
      },
      "execution_count": null,
      "outputs": []
    },
    {
      "cell_type": "code",
      "source": [
        "def get_pred(words):\n",
        "    return model.predict(words)[0][0]"
      ],
      "metadata": {
        "id": "a3cG1IYV47O3"
      },
      "execution_count": null,
      "outputs": []
    },
    {
      "cell_type": "code",
      "source": [
        "test['category'] = test['corrupted_text'].apply(get_pred)\n",
        "test['category'].value_counts()"
      ],
      "metadata": {
        "id": "85uF4f-d48hP"
      },
      "execution_count": null,
      "outputs": []
    },
    {
      "cell_type": "markdown",
      "source": [
        "Используем FastText для составления эмбеддингов, основанных на последовательности символов, чтобы далее искать ближайшие слова - кандидаты для исправления\n",
        "\n",
        "Т.к в категории продуктов слова специфичные и отличаются от общих слов в фразах и других категориях, отдельно обучаемся на текстах из разных категорий"
      ],
      "metadata": {
        "id": "PxEXkKUH8yLf"
      }
    },
    {
      "cell_type": "code",
      "source": [
        "train['correct_text'] = train['correct_text'].apply(lambda x: x.lower())"
      ],
      "metadata": {
        "id": "WRolBtMp4-fR"
      },
      "execution_count": null,
      "outputs": []
    },
    {
      "cell_type": "code",
      "source": [
        "train[train['category'] == 'phrases']['correct_text'].to_csv('category_text.txt', index=False)"
      ],
      "metadata": {
        "id": "WePdPUh55Awa"
      },
      "execution_count": null,
      "outputs": []
    },
    {
      "cell_type": "code",
      "source": [
        "model_phrases = fasttext.train_unsupervised('category_text.txt', \n",
        "                                    wordNgrams=1, \n",
        "                                    minn=1, \n",
        "                                    maxn=2, \n",
        "                                    dim=300, \n",
        "                                    ws=8, \n",
        "                                    neg=8, \n",
        "                                    epoch=10, \n",
        "                                    minCount=10, \n",
        "                                    bucket=900000)"
      ],
      "metadata": {
        "id": "vODcgcDJ5A-x"
      },
      "execution_count": null,
      "outputs": []
    },
    {
      "cell_type": "code",
      "source": [
        "train[train['category'] == 'products']['correct_text'].to_csv('correct_category.txt', index=False)"
      ],
      "metadata": {
        "id": "ht9VOz8-5Ulw"
      },
      "execution_count": null,
      "outputs": []
    },
    {
      "cell_type": "code",
      "source": [
        "model_products = fasttext.train_unsupervised('correct_category.txt', \n",
        "                                    wordNgrams=1, \n",
        "                                    minn=1, \n",
        "                                    maxn=2, \n",
        "                                    dim=300, \n",
        "                                    ws=8, \n",
        "                                    neg=8, \n",
        "                                    epoch=10, \n",
        "                                    minCount=10, \n",
        "                                    bucket=900000)"
      ],
      "metadata": {
        "id": "8vF1-ZV05VyM"
      },
      "execution_count": null,
      "outputs": []
    },
    {
      "cell_type": "code",
      "source": [
        "public_df = pd.read_csv('res3.csv')"
      ],
      "metadata": {
        "id": "OHCSUArl5Wp_"
      },
      "execution_count": null,
      "outputs": []
    },
    {
      "cell_type": "code",
      "source": [
        "test"
      ],
      "metadata": {
        "id": "8sXNJg3J5YiJ"
      },
      "execution_count": null,
      "outputs": []
    },
    {
      "cell_type": "code",
      "source": [
        "public_df['category'] = public_df['res'].apply(get_pred)"
      ],
      "metadata": {
        "id": "vAREEuNz5ZnE"
      },
      "execution_count": null,
      "outputs": []
    },
    {
      "cell_type": "code",
      "source": [
        "def product_checker(text_check):\n",
        "    text = text_check.copy()\n",
        "    for i in range(len(text)):\n",
        "        if text[i] not in good_words:\n",
        "            candidates = [x[1] for x in model_products.get_nearest_neighbors(text[i], k=10)]\n",
        "            for candidate in candidates:\n",
        "                if len(candidate) >= len(text[i]):\n",
        "                    text[i] = candidate\n",
        "                    break\n",
        "    return text"
      ],
      "metadata": {
        "id": "E969VtvH5gCp"
      },
      "execution_count": null,
      "outputs": []
    },
    {
      "cell_type": "code",
      "source": [
        "def not_product_checker(text_check):\n",
        "    text = text_check.copy()\n",
        "    for i in range(len(text)):\n",
        "        if text[i] not in good_words:\n",
        "                candidates = [x[1] for x in model_phrases.get_nearest_neighbors(text[i], k=10)]\n",
        "                for candidate in candidates:\n",
        "                    if len(candidate) >= len(text[i]):\n",
        "                        text[i] = candidate\n",
        "                        break\n",
        "    return text"
      ],
      "metadata": {
        "id": "3APoljV65g5m"
      },
      "execution_count": null,
      "outputs": []
    },
    {
      "cell_type": "code",
      "source": [
        "public_df['corrupt_text_no_punctuation'] = public_df.res.apply(lambda x: remove_punctuation(x)).apply(lambda x: x.lower())"
      ],
      "metadata": {
        "id": "p2WBlKbJ5h6r"
      },
      "execution_count": null,
      "outputs": []
    },
    {
      "cell_type": "code",
      "source": [
        "public_df['list_text'] = public_df['corrupt_text_no_punctuation'].apply(lambda x: x.split())"
      ],
      "metadata": {
        "id": "FyIq3mTa5i-5"
      },
      "execution_count": null,
      "outputs": []
    },
    {
      "cell_type": "code",
      "source": [
        "public_df.loc[public_df['category'] == '__label__products', 'list_text'] = public_df[public_df['category'] == '__label__products']['list_text'].apply(lambda x: product_checker(x))"
      ],
      "metadata": {
        "id": "lpOjQMf85lFZ"
      },
      "execution_count": null,
      "outputs": []
    },
    {
      "cell_type": "code",
      "source": [
        "public_df.loc[public_df['category'] != '__label__products', 'list_text'] = public_df[public_df['category'] != '__label__products']['list_text'].apply(lambda x: not_product_checker(x))"
      ],
      "metadata": {
        "id": "1h6kqaYw5mhR"
      },
      "execution_count": null,
      "outputs": []
    },
    {
      "cell_type": "code",
      "source": [
        "public_df['corrupt_text_list'] = public_df['res'].apply(lambda x: x.split())\n",
        "public_df['final_res'] = public_df.apply(lambda x: restore_punctuation(x.corrupt_text_list, x.list_text), axis=1)"
      ],
      "metadata": {
        "id": "2xoV-kX65nxv"
      },
      "execution_count": null,
      "outputs": []
    },
    {
      "cell_type": "code",
      "source": [
        "public_df.final_res.to_csv('1res_private.csv', index=False)"
      ],
      "metadata": {
        "id": "jAQrxoNB5pTp"
      },
      "execution_count": null,
      "outputs": []
    },
    {
      "cell_type": "code",
      "source": [],
      "metadata": {
        "id": "soNK5fj25qxV"
      },
      "execution_count": null,
      "outputs": []
    }
  ]
}